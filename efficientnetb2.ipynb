{
 "cells": [
  {
   "cell_type": "code",
   "execution_count": 1,
   "id": "d9fca332",
   "metadata": {
    "execution": {
     "iopub.execute_input": "2025-03-18T18:40:12.717232Z",
     "iopub.status.busy": "2025-03-18T18:40:12.716967Z",
     "iopub.status.idle": "2025-03-18T18:40:35.692774Z",
     "shell.execute_reply": "2025-03-18T18:40:35.691910Z"
    },
    "papermill": {
     "duration": 22.983482,
     "end_time": "2025-03-18T18:40:35.694542",
     "exception": false,
     "start_time": "2025-03-18T18:40:12.711060",
     "status": "completed"
    },
    "tags": []
   },
   "outputs": [],
   "source": [
    "import numpy as np # linear algebra\n",
    "import pandas as pd # data processing, CSV file I/O (e.g. pd.read_csv)\n",
    "import os\n",
    "import matplotlib.pyplot as plt\n",
    "import random\n",
    "import tensorflow as tf\n",
    "from sklearn.metrics import classification_report,ConfusionMatrixDisplay, confusion_matrix\n",
    "from sklearn.metrics import roc_auc_score\n"
   ]
  },
  {
   "cell_type": "code",
   "execution_count": 2,
   "id": "242f998f",
   "metadata": {
    "execution": {
     "iopub.execute_input": "2025-03-18T18:40:35.704699Z",
     "iopub.status.busy": "2025-03-18T18:40:35.704162Z",
     "iopub.status.idle": "2025-03-18T18:40:35.790506Z",
     "shell.execute_reply": "2025-03-18T18:40:35.789780Z"
    },
    "papermill": {
     "duration": 0.092773,
     "end_time": "2025-03-18T18:40:35.792017",
     "exception": false,
     "start_time": "2025-03-18T18:40:35.699244",
     "status": "completed"
    },
    "tags": []
   },
   "outputs": [],
   "source": [
    "from tensorflow.keras.preprocessing.image import ImageDataGenerator\n",
    "from tensorflow.keras.applications import EfficientNetB2"
   ]
  },
  {
   "cell_type": "code",
   "execution_count": 3,
   "id": "9653d411",
   "metadata": {
    "execution": {
     "iopub.execute_input": "2025-03-18T18:40:35.801680Z",
     "iopub.status.busy": "2025-03-18T18:40:35.801425Z",
     "iopub.status.idle": "2025-03-18T18:40:35.805717Z",
     "shell.execute_reply": "2025-03-18T18:40:35.804775Z"
    },
    "papermill": {
     "duration": 0.010762,
     "end_time": "2025-03-18T18:40:35.807347",
     "exception": false,
     "start_time": "2025-03-18T18:40:35.796585",
     "status": "completed"
    },
    "tags": []
   },
   "outputs": [],
   "source": [
    "data_dir = '/kaggle/input/teknofest/Teknofest_Saglıkta_Yapay_Zeka'\n",
    "\n",
    "#label_names\n",
    "label_names = ['normal','stroke']\n",
    "\n",
    "num_classes = len(label_names)\n",
    "\n",
    "EPOCHS = 100\n",
    "IMG_SIZE = 260\n",
    "BATCH_SIZE = 32\n",
    "IMG_SHAPE = (260,260)\n",
    "\n",
    "AUTOTUNE = tf.data.AUTOTUNE\n",
    "#device = \"TPU-VM\"\n",
    "device = \"GPU\"\n",
    "SEED = 1"
   ]
  },
  {
   "cell_type": "code",
   "execution_count": 4,
   "id": "0c55487c",
   "metadata": {
    "execution": {
     "iopub.execute_input": "2025-03-18T18:40:35.816583Z",
     "iopub.status.busy": "2025-03-18T18:40:35.816348Z",
     "iopub.status.idle": "2025-03-18T18:40:35.821365Z",
     "shell.execute_reply": "2025-03-18T18:40:35.820478Z"
    },
    "papermill": {
     "duration": 0.010822,
     "end_time": "2025-03-18T18:40:35.822530",
     "exception": false,
     "start_time": "2025-03-18T18:40:35.811708",
     "status": "completed"
    },
    "tags": []
   },
   "outputs": [
    {
     "name": "stdout",
     "output_type": "stream",
     "text": [
      "seeding done!!!\n"
     ]
    }
   ],
   "source": [
    "def seeding(SEED):\n",
    "    np.random.seed(SEED)\n",
    "    random.seed(SEED)\n",
    "    os.environ['PYTHONHASHSEED'] = str(SEED)\n",
    "    tf.random.set_seed(SEED)\n",
    "    #keras.utils.set_random_seed(seed=config.SEED)\n",
    "    print('seeding done!!!')\n",
    "    \n",
    "seeding(SEED)"
   ]
  },
  {
   "cell_type": "code",
   "execution_count": 5,
   "id": "d4709643",
   "metadata": {
    "execution": {
     "iopub.execute_input": "2025-03-18T18:40:35.831679Z",
     "iopub.status.busy": "2025-03-18T18:40:35.831427Z",
     "iopub.status.idle": "2025-03-18T18:40:37.928116Z",
     "shell.execute_reply": "2025-03-18T18:40:37.927110Z"
    },
    "papermill": {
     "duration": 2.103068,
     "end_time": "2025-03-18T18:40:37.929684",
     "exception": false,
     "start_time": "2025-03-18T18:40:35.826616",
     "status": "completed"
    },
    "tags": []
   },
   "outputs": [
    {
     "name": "stdout",
     "output_type": "stream",
     "text": [
      "GPU\n",
      "Using Multi GPU\n",
      "Number of GPU Available:  2\n",
      "REPLICAS: 2\n",
      "32\n"
     ]
    }
   ],
   "source": [
    "print(device)\n",
    "if 'TPU' in device: \n",
    "    tpu = 'local' if device == 'TPU-VM' else None\n",
    "    #tpu = tf.distribute.cluster_resolver.TPUClusterResolver()\n",
    "\n",
    "    print(\"Conncecting to TPU...\")\n",
    "    try: \n",
    "        #tpu = tf.distribute.cluster_resolver.TPUClusterResolver.connect(tpu=tpu)\n",
    "        #tpu = tf.distribute.cluster_resolver.TPUClusterResolver.connect()\n",
    "        tpu = tf.distribute.cluster_resolver.TPUClusterResolver()\n",
    "        #tf.config.experimental_connect_to_cluster(tpu)\n",
    "        tf.tpu.experimental.initialize_tpu_system(tpu)\n",
    "        print(\"TPU:\" , tpu)\n",
    "        strategy  = tf.distribute.TPUStrategy(tpu) \n",
    "    except: \n",
    "        device = 'GPU'\n",
    "        \n",
    "if device == 'GPU' or device == 'CPU':\n",
    "    ngpu = len(tf.config.experimental.list_physical_devices('GPU'))\n",
    "    if ngpu > 1: \n",
    "        print(\"Using Multi GPU\")\n",
    "        strategy = tf.distribute.MirroredStrategy()\n",
    "    elif ngpu==1: \n",
    "        print(\"Using Single GPU\")\n",
    "        strategy = tf.distribute.get_strategy()\n",
    "    else:\n",
    "        print(\"Using CPU\")\n",
    "        strategy = tf.distribute.get_strategy()\n",
    "        device = 'CPU'\n",
    "        \n",
    "if device == \"GPU\":\n",
    "    print(\"Number of GPU Available: \", ngpu)\n",
    "    \n",
    "REPLICAS = strategy.num_replicas_in_sync\n",
    "print(f'REPLICAS: {REPLICAS}')\n",
    "\n",
    "BATCH_SIZE = 16 * strategy.num_replicas_in_sync\n",
    "print(BATCH_SIZE)"
   ]
  },
  {
   "cell_type": "code",
   "execution_count": 6,
   "id": "2dc870c2",
   "metadata": {
    "execution": {
     "iopub.execute_input": "2025-03-18T18:40:37.939856Z",
     "iopub.status.busy": "2025-03-18T18:40:37.939599Z",
     "iopub.status.idle": "2025-03-18T18:40:37.943726Z",
     "shell.execute_reply": "2025-03-18T18:40:37.942704Z"
    },
    "papermill": {
     "duration": 0.010607,
     "end_time": "2025-03-18T18:40:37.944989",
     "exception": false,
     "start_time": "2025-03-18T18:40:37.934382",
     "status": "completed"
    },
    "tags": []
   },
   "outputs": [
    {
     "name": "stdout",
     "output_type": "stream",
     "text": [
      "GPU\n"
     ]
    }
   ],
   "source": [
    "print(device)"
   ]
  },
  {
   "cell_type": "code",
   "execution_count": 7,
   "id": "03180308",
   "metadata": {
    "execution": {
     "iopub.execute_input": "2025-03-18T18:40:37.954881Z",
     "iopub.status.busy": "2025-03-18T18:40:37.954649Z",
     "iopub.status.idle": "2025-03-18T18:40:38.142562Z",
     "shell.execute_reply": "2025-03-18T18:40:38.141315Z"
    },
    "papermill": {
     "duration": 0.19463,
     "end_time": "2025-03-18T18:40:38.144189",
     "exception": false,
     "start_time": "2025-03-18T18:40:37.949559",
     "status": "completed"
    },
    "tags": []
   },
   "outputs": [
    {
     "name": "stdout",
     "output_type": "stream",
     "text": [
      "3541\n",
      "1778\n",
      "Weight for class 0: 0.75\n",
      "Weight for class 1: 1.50\n"
     ]
    }
   ],
   "source": [
    "# Start weights at zero\n",
    "num_classes = len(label_names)\n",
    "weights = [0] * num_classes  # e.g. [0, 0, 0, .. 0]\n",
    "\n",
    "tot = 0\n",
    "for idx, label in enumerate(label_names):\n",
    "    cnt_label = len(os.listdir(os.path.join(f\"{data_dir}/train\", f\"{label}/png\")))\n",
    "    print(cnt_label)\n",
    "    weights[idx] = cnt_label  # really a count right now\n",
    "    tot += cnt_label\n",
    "\n",
    "class_frequencies = weights\n",
    "class_frequencies = [ w / tot for w in weights ]  # [0.018897364771151177, 0.0297041 ...\n",
    "\n",
    "weights = [ 1.0 / cnt for cnt in weights ]\n",
    "weights = [ tot * w / num_classes for w in weights ]\n",
    "\n",
    "class_weight = {}\n",
    "for i in range(num_classes):\n",
    "    class_weight[i] = weights[i]\n",
    "    print(f\"Weight for class {i}: \" + '{:.2f}'.format(weights[i]))"
   ]
  },
  {
   "cell_type": "code",
   "execution_count": 8,
   "id": "73ffd44f",
   "metadata": {
    "execution": {
     "iopub.execute_input": "2025-03-18T18:40:38.155305Z",
     "iopub.status.busy": "2025-03-18T18:40:38.154991Z",
     "iopub.status.idle": "2025-03-18T18:41:14.676613Z",
     "shell.execute_reply": "2025-03-18T18:41:14.675871Z"
    },
    "papermill": {
     "duration": 36.528836,
     "end_time": "2025-03-18T18:41:14.678177",
     "exception": false,
     "start_time": "2025-03-18T18:40:38.149341",
     "status": "completed"
    },
    "tags": []
   },
   "outputs": [
    {
     "name": "stdout",
     "output_type": "stream",
     "text": [
      "Found 5319 files belonging to 2 classes.\n",
      "Found 664 files belonging to 2 classes.\n",
      "Found 667 files belonging to 2 classes.\n"
     ]
    }
   ],
   "source": [
    "from tensorflow.keras.preprocessing import image_dataset_from_directory\n",
    "\n",
    "train_ds= tf.keras.utils.image_dataset_from_directory(\n",
    "    f\"{data_dir}/train\",\n",
    "    labels=\"inferred\",\n",
    "    label_mode=\"categorical\",\n",
    "    class_names=label_names,\n",
    "    batch_size=BATCH_SIZE,\n",
    "    image_size=(IMG_SIZE, IMG_SIZE),\n",
    "    shuffle=True,\n",
    "    seed=7,\n",
    "    crop_to_aspect_ratio=True,\n",
    ")\n",
    "\n",
    "# Load validation data\n",
    "val_ds = image_dataset_from_directory(\n",
    "    f\"{data_dir}/validation\",\n",
    "    labels=\"inferred\",\n",
    "    label_mode=\"categorical\",\n",
    "    class_names=label_names,\n",
    "    batch_size=BATCH_SIZE,\n",
    "    image_size=(IMG_SIZE, IMG_SIZE),\n",
    "    shuffle=True,\n",
    "    seed=7,\n",
    "    crop_to_aspect_ratio=True,\n",
    ")\n",
    "\n",
    "test_ds = image_dataset_from_directory(\n",
    "    f\"{data_dir}/test\",\n",
    "    labels=\"inferred\",\n",
    "    label_mode=\"categorical\",\n",
    "    class_names=label_names,\n",
    "    batch_size=BATCH_SIZE,\n",
    "    image_size=(IMG_SIZE, IMG_SIZE),\n",
    "    shuffle=True,\n",
    "    seed=7,\n",
    "    crop_to_aspect_ratio=True,\n",
    ")"
   ]
  },
  {
   "cell_type": "code",
   "execution_count": 9,
   "id": "448e8e51",
   "metadata": {
    "execution": {
     "iopub.execute_input": "2025-03-18T18:41:14.689078Z",
     "iopub.status.busy": "2025-03-18T18:41:14.688812Z",
     "iopub.status.idle": "2025-03-18T18:41:14.692051Z",
     "shell.execute_reply": "2025-03-18T18:41:14.691332Z"
    },
    "papermill": {
     "duration": 0.010185,
     "end_time": "2025-03-18T18:41:14.693456",
     "exception": false,
     "start_time": "2025-03-18T18:41:14.683271",
     "status": "completed"
    },
    "tags": []
   },
   "outputs": [],
   "source": [
    "#train_ds = train_ds.map(preprocess_images, num_parallel_calls=tf.data.experimental.AUTOTUNE)\n",
    "#val_ds = val_ds.map(preprocess_images, num_parallel_calls=tf.data.experimental.AUTOTUNE)\n",
    "#test_ds = test_ds.map(preprocess_images, num_parallel_calls=tf.data.experimental.AUTOTUNE)"
   ]
  },
  {
   "cell_type": "code",
   "execution_count": 10,
   "id": "b7a6eae3",
   "metadata": {
    "execution": {
     "iopub.execute_input": "2025-03-18T18:41:14.704081Z",
     "iopub.status.busy": "2025-03-18T18:41:14.703830Z",
     "iopub.status.idle": "2025-03-18T18:41:14.728170Z",
     "shell.execute_reply": "2025-03-18T18:41:14.727227Z"
    },
    "papermill": {
     "duration": 0.031353,
     "end_time": "2025-03-18T18:41:14.729761",
     "exception": false,
     "start_time": "2025-03-18T18:41:14.698408",
     "status": "completed"
    },
    "tags": []
   },
   "outputs": [],
   "source": [
    "with strategy.scope():\n",
    "    image_augmentation = tf.keras.models.Sequential([\n",
    "        tf.keras.layers.RandomRotation(factor=0.15),\n",
    "        tf.keras.layers.RandomTranslation(height_factor=0.1, width_factor=0.1),\n",
    "        tf.keras.layers.RandomFlip(mode=\"horizontal_and_vertical\", seed=7),\n",
    "    ])"
   ]
  },
  {
   "cell_type": "code",
   "execution_count": 11,
   "id": "556a9a9c",
   "metadata": {
    "execution": {
     "iopub.execute_input": "2025-03-18T18:41:14.740306Z",
     "iopub.status.busy": "2025-03-18T18:41:14.740024Z",
     "iopub.status.idle": "2025-03-18T18:41:14.754349Z",
     "shell.execute_reply": "2025-03-18T18:41:14.753659Z"
    },
    "papermill": {
     "duration": 0.020907,
     "end_time": "2025-03-18T18:41:14.755579",
     "exception": false,
     "start_time": "2025-03-18T18:41:14.734672",
     "status": "completed"
    },
    "tags": []
   },
   "outputs": [],
   "source": [
    "train_ds = train_ds.cache().prefetch(buffer_size=tf.data.AUTOTUNE)\n",
    "val_ds = val_ds.cache().prefetch(buffer_size=tf.data.AUTOTUNE)\n",
    "test_ds = test_ds.cache().prefetch(buffer_size=tf.data.AUTOTUNE)"
   ]
  },
  {
   "cell_type": "code",
   "execution_count": 12,
   "id": "6a3710cc",
   "metadata": {
    "execution": {
     "iopub.execute_input": "2025-03-18T18:41:14.767091Z",
     "iopub.status.busy": "2025-03-18T18:41:14.766860Z",
     "iopub.status.idle": "2025-03-18T18:41:14.807181Z",
     "shell.execute_reply": "2025-03-18T18:41:14.806328Z"
    },
    "papermill": {
     "duration": 0.047324,
     "end_time": "2025-03-18T18:41:14.808999",
     "exception": false,
     "start_time": "2025-03-18T18:41:14.761675",
     "status": "completed"
    },
    "tags": []
   },
   "outputs": [],
   "source": [
    "with strategy.scope():\n",
    "\n",
    "    METRICS = [\n",
    "        #pauc,\n",
    "        tf.keras.metrics.BinaryCrossentropy(name='binary_crossentropy'),\n",
    "        # tf.keras.metrics.TruePositives(name='tp'),\n",
    "        # tf.keras.metrics.TrueNegatives(name='tn'),\n",
    "        # tf.keras.metrics.FalsePositives(name='fp'),\n",
    "        # tf.keras.metrics.FalseNegatives(name='fn')\n",
    "        #tf.keras.metrics.BinaryAccuracy(name='BinaryAccuracy'),\n",
    "        tf.keras.metrics.Precision(name='precision'),\n",
    "        tf.keras.metrics.Recall(name='recall'),\n",
    "        tf.keras.metrics.F1Score(name='f1'),\n",
    "        tf.keras.metrics.CategoricalAccuracy(name='categorical_accuracy'),\n",
    "    ]"
   ]
  },
  {
   "cell_type": "code",
   "execution_count": 13,
   "id": "81cde813",
   "metadata": {
    "execution": {
     "iopub.execute_input": "2025-03-18T18:41:14.820560Z",
     "iopub.status.busy": "2025-03-18T18:41:14.820173Z",
     "iopub.status.idle": "2025-03-18T18:41:14.827413Z",
     "shell.execute_reply": "2025-03-18T18:41:14.826455Z"
    },
    "papermill": {
     "duration": 0.014574,
     "end_time": "2025-03-18T18:41:14.828989",
     "exception": false,
     "start_time": "2025-03-18T18:41:14.814415",
     "status": "completed"
    },
    "tags": []
   },
   "outputs": [],
   "source": [
    "#CNN Models\n",
    "#We'll first take off the old head from the model (with include_top=False) and replace it with our own classifier for our specific data. First we'll freeze all the model weights and only train our classifier head.\n",
    "\n",
    "def build_model_EfficientNetB2(num_classes, metrics=METRICS, output_bias=None):\n",
    "\n",
    "    if output_bias is not None:\n",
    "        output_bias = tf.keras.initializers.Constant(output_bias)\n",
    "\n",
    "    # Inputs and augmentation\n",
    "    inputs = tf.keras.layers.Input(shape=(IMG_SIZE, IMG_SIZE, 3))\n",
    "    aug_inputs = image_augmentation(inputs)\n",
    "\n",
    "    #rescaled_inputs = tf.keras.layers.Rescaling(1.0 / 255)(aug_inputs)\n",
    "    rescaled_inputs = aug_inputs\n",
    "    \n",
    "    # Base model\n",
    "    model = EfficientNetB2(include_top=False, input_tensor=rescaled_inputs, weights=\"imagenet\")\n",
    "\n",
    "    # Freeze the pretrained weights\n",
    "    model.trainable = False\n",
    "\n",
    "    # Rebuild top like in original paper\n",
    "    x = tf.keras.layers.GlobalAveragePooling2D(name=\"avg_pool\")(model.output)\n",
    "    x = tf.keras.layers.Dense(256, activation=\"relu\")(x)\n",
    "    x = tf.keras.layers.Dropout(0.4)(x)\n",
    "    x = tf.keras.layers.Dense(128, activation=\"relu\")(x)\n",
    "    x = tf.keras.layers.Dropout(0.3)(x)\n",
    "\n",
    "    outputs = tf.keras.layers.Dense(num_classes,\n",
    "                                    activation=\"softmax\",\n",
    "                                    # bias otherwise defaults to zeros\n",
    "                                    bias_initializer=output_bias,\n",
    "                                    name=\"pred\")(x)\n",
    "\n",
    "    # Compile Model\n",
    "    model = tf.keras.Model(inputs, outputs, name=\"EfficientNetB2\")\n",
    "\n",
    "    # Using a large learning rate for this part since most weights are fixed\n",
    "    optimizer = tf.keras.optimizers.Adam(learning_rate=1e-2)\n",
    "\n",
    "    model.compile(\n",
    "        optimizer=optimizer, loss=\"categorical_crossentropy\", metrics=metrics,\n",
    "    )\n",
    "\n",
    "    return model"
   ]
  },
  {
   "cell_type": "code",
   "execution_count": 14,
   "id": "4547e087",
   "metadata": {
    "execution": {
     "iopub.execute_input": "2025-03-18T18:41:14.840603Z",
     "iopub.status.busy": "2025-03-18T18:41:14.840223Z",
     "iopub.status.idle": "2025-03-18T18:41:19.961309Z",
     "shell.execute_reply": "2025-03-18T18:41:19.960375Z"
    },
    "papermill": {
     "duration": 5.128741,
     "end_time": "2025-03-18T18:41:19.963092",
     "exception": false,
     "start_time": "2025-03-18T18:41:14.834351",
     "status": "completed"
    },
    "tags": []
   },
   "outputs": [
    {
     "name": "stdout",
     "output_type": "stream",
     "text": [
      "Downloading data from https://storage.googleapis.com/keras-applications/efficientnetb2_notop.h5\n",
      "\u001b[1m31790344/31790344\u001b[0m \u001b[32m━━━━━━━━━━━━━━━━━━━━\u001b[0m\u001b[37m\u001b[0m \u001b[1m0s\u001b[0m 0us/step\n",
      "The following models are being trained - \n",
      "EfficientNetB2\n"
     ]
    }
   ],
   "source": [
    "#Build models\n",
    "\n",
    "tf.keras.backend.clear_session()\n",
    "    \n",
    "with strategy.scope():\n",
    "    #model_1 = build_model_Xception(num_classes)\n",
    "    model_1 = build_model_EfficientNetB2(num_classes)\n",
    "    #model_1 = build_model_EfficientNetV2M(num_classes)\n",
    "    #model_1 = build_model_EfficientNetV2L(num_classes)\n",
    "    #model_1 = build_model_ConvNeXtBase(num_classes)\n",
    "    #model_1 = build_model_ConvNeXtLarge(num_classes)\n",
    "    models = [model_1]\n",
    "   \n",
    "# model.summary(show_trainable=True)\n",
    "print(\"The following models are being trained - \")\n",
    "for x in models:\n",
    "    print(f\"{x.name}\")"
   ]
  },
  {
   "cell_type": "code",
   "execution_count": 15,
   "id": "fa84b844",
   "metadata": {
    "execution": {
     "iopub.execute_input": "2025-03-18T18:41:19.975349Z",
     "iopub.status.busy": "2025-03-18T18:41:19.975053Z",
     "iopub.status.idle": "2025-03-18T18:41:19.978088Z",
     "shell.execute_reply": "2025-03-18T18:41:19.977382Z"
    },
    "papermill": {
     "duration": 0.010288,
     "end_time": "2025-03-18T18:41:19.979332",
     "exception": false,
     "start_time": "2025-03-18T18:41:19.969044",
     "status": "completed"
    },
    "tags": []
   },
   "outputs": [],
   "source": [
    "#tf.keras.utils.plot_model(model_1, show_shapes=True)"
   ]
  },
  {
   "cell_type": "code",
   "execution_count": 16,
   "id": "8d4ed0ae",
   "metadata": {
    "execution": {
     "iopub.execute_input": "2025-03-18T18:41:19.990739Z",
     "iopub.status.busy": "2025-03-18T18:41:19.990464Z",
     "iopub.status.idle": "2025-03-18T18:41:19.994744Z",
     "shell.execute_reply": "2025-03-18T18:41:19.993835Z"
    },
    "papermill": {
     "duration": 0.011502,
     "end_time": "2025-03-18T18:41:19.996216",
     "exception": false,
     "start_time": "2025-03-18T18:41:19.984714",
     "status": "completed"
    },
    "tags": []
   },
   "outputs": [],
   "source": [
    "#Callbacks\n",
    "#We'll use Early Stopping to stop the model if the validation loss stops improving. We'll also reduce the learning rate when learning starts to plateau.\n",
    "\n",
    "# Use early stopping to train as long as possible\n",
    "early_stopping_cb = tf.keras.callbacks.EarlyStopping(\n",
    "        monitor=\"val_loss\",\n",
    "        patience=5,\n",
    "        restore_best_weights=True,\n",
    ")\n",
    "\n",
    "# And Reduce LR on Plateau to lower learning rate if stagnating\n",
    "reduce_lr_on_plateau_cb = tf.keras.callbacks.ReduceLROnPlateau(\n",
    "        monitor=\"val_loss\",\n",
    "        factor=0.5,         # reduce by half (divide by 2)\n",
    "        patience=2,         # must be lower than patience of early stopping\n",
    ")"
   ]
  },
  {
   "cell_type": "code",
   "execution_count": 17,
   "id": "19aae1ea",
   "metadata": {
    "execution": {
     "iopub.execute_input": "2025-03-18T18:41:20.007182Z",
     "iopub.status.busy": "2025-03-18T18:41:20.006923Z",
     "iopub.status.idle": "2025-03-18T18:41:20.014371Z",
     "shell.execute_reply": "2025-03-18T18:41:20.013507Z"
    },
    "papermill": {
     "duration": 0.014354,
     "end_time": "2025-03-18T18:41:20.015753",
     "exception": false,
     "start_time": "2025-03-18T18:41:20.001399",
     "status": "completed"
    },
    "tags": []
   },
   "outputs": [],
   "source": [
    "def plot_history(model,history):\n",
    "    \n",
    "    # Plot the loss and accuracy curves for training and validation\n",
    "#     plt.title(model.name)\n",
    "    fig, ax = plt.subplots(2,1)\n",
    "    ax[0].set_title(f\"{model.name} Loss\")\n",
    "    ax[0].plot(history.history['loss'], color='b', label=\"Training loss\")\n",
    "    ax[0].plot(history.history['val_loss'], color='r', label=\"validation loss\")\n",
    "    legend = ax[0].legend(loc='best', shadow=True)\n",
    "\n",
    "    ax[1].set_title(f\"\\n{model.name} Accuracy\")\n",
    "    ax[1].plot(history.history['categorical_accuracy'], color='b', label=\"Training accuracy\")\n",
    "    ax[1].plot(history.history['val_categorical_accuracy'], color='r',label=\"Validation accuracy\")\n",
    "    legend = ax[1].legend(loc='best', shadow=True)\n",
    "    fig.tight_layout()\n",
    "    \n",
    "def pred_confusion(model):\n",
    "   \n",
    "    true_labels = []\n",
    "    for _, tmp_labels in test_ds:\n",
    "        true_labels.append(tmp_labels.numpy())\n",
    "\n",
    "    true_labels = np.concatenate(true_labels)\n",
    "    true_labels = np.argmax(true_labels, axis=1)  # (1732,)\n",
    "\n",
    "    print(\"Evaluating on test data\")\n",
    "    results = model.evaluate(test_ds, batch_size=BATCH_SIZE)\n",
    "    \n",
    "    print(\"Generating prediction data\")\n",
    "\n",
    "    test_predictions_baseline = model.predict(test_ds, batch_size=BATCH_SIZE)\n",
    "    predicted_classes = np.argmax(test_predictions_baseline, axis=1)\n",
    "    print(classification_report(true_labels, predicted_classes, target_names=label_names))\n",
    "\n",
    "\n",
    "    cm = confusion_matrix(true_labels, predicted_classes)\n",
    "    cm_display = ConfusionMatrixDisplay(cm,display_labels =label_names).plot()"
   ]
  },
  {
   "cell_type": "code",
   "execution_count": 18,
   "id": "dd0747f9",
   "metadata": {
    "execution": {
     "iopub.execute_input": "2025-03-18T18:41:20.026611Z",
     "iopub.status.busy": "2025-03-18T18:41:20.026360Z",
     "iopub.status.idle": "2025-03-18T18:46:00.823167Z",
     "shell.execute_reply": "2025-03-18T18:46:00.822057Z"
    },
    "papermill": {
     "duration": 280.803931,
     "end_time": "2025-03-18T18:46:00.824606",
     "exception": false,
     "start_time": "2025-03-18T18:41:20.020675",
     "status": "completed"
    },
    "tags": []
   },
   "outputs": [
    {
     "name": "stdout",
     "output_type": "stream",
     "text": [
      "Epoch 1/100\n",
      "167/167 - 58s - 347ms/step - binary_crossentropy: 0.8381 - categorical_accuracy: 0.6774 - f1: 0.6484 - loss: 0.7479 - precision: 0.6774 - recall: 0.6774 - val_binary_crossentropy: 0.5827 - val_categorical_accuracy: 0.8223 - val_f1: 0.7832 - val_loss: 0.4251 - val_precision: 0.8223 - val_recall: 0.8223 - learning_rate: 0.0100\n",
      "Epoch 2/100\n",
      "167/167 - 15s - 90ms/step - binary_crossentropy: 0.6707 - categorical_accuracy: 0.7624 - f1: 0.7375 - loss: 0.5426 - precision: 0.7624 - recall: 0.7624 - val_binary_crossentropy: 0.5782 - val_categorical_accuracy: 0.8102 - val_f1: 0.7699 - val_loss: 0.4802 - val_precision: 0.8102 - val_recall: 0.8102 - learning_rate: 0.0100\n",
      "Epoch 3/100\n",
      "167/167 - 15s - 93ms/step - binary_crossentropy: 0.6552 - categorical_accuracy: 0.7609 - f1: 0.7380 - loss: 0.5168 - precision: 0.7609 - recall: 0.7609 - val_binary_crossentropy: 0.5723 - val_categorical_accuracy: 0.8373 - val_f1: 0.7849 - val_loss: 0.4120 - val_precision: 0.8373 - val_recall: 0.8373 - learning_rate: 0.0100\n",
      "Epoch 4/100\n",
      "167/167 - 15s - 92ms/step - binary_crossentropy: 0.6737 - categorical_accuracy: 0.7835 - f1: 0.7578 - loss: 0.5110 - precision: 0.7835 - recall: 0.7835 - val_binary_crossentropy: 0.5848 - val_categorical_accuracy: 0.8102 - val_f1: 0.7854 - val_loss: 0.4693 - val_precision: 0.8102 - val_recall: 0.8102 - learning_rate: 0.0100\n",
      "Epoch 5/100\n",
      "167/167 - 16s - 94ms/step - binary_crossentropy: 0.6209 - categorical_accuracy: 0.8015 - f1: 0.7756 - loss: 0.4965 - precision: 0.8015 - recall: 0.8015 - val_binary_crossentropy: 0.4849 - val_categorical_accuracy: 0.8223 - val_f1: 0.7845 - val_loss: 0.4045 - val_precision: 0.8223 - val_recall: 0.8223 - learning_rate: 0.0100\n",
      "Epoch 6/100\n",
      "167/167 - 16s - 95ms/step - binary_crossentropy: 0.6050 - categorical_accuracy: 0.7887 - f1: 0.7634 - loss: 0.5052 - precision: 0.7887 - recall: 0.7887 - val_binary_crossentropy: 0.5299 - val_categorical_accuracy: 0.8373 - val_f1: 0.7942 - val_loss: 0.4293 - val_precision: 0.8373 - val_recall: 0.8373 - learning_rate: 0.0100\n",
      "Epoch 7/100\n",
      "167/167 - 16s - 96ms/step - binary_crossentropy: 0.5943 - categorical_accuracy: 0.7929 - f1: 0.7694 - loss: 0.5009 - precision: 0.7929 - recall: 0.7929 - val_binary_crossentropy: 0.5132 - val_categorical_accuracy: 0.8373 - val_f1: 0.8022 - val_loss: 0.3821 - val_precision: 0.8373 - val_recall: 0.8373 - learning_rate: 0.0100\n",
      "Epoch 8/100\n",
      "167/167 - 16s - 95ms/step - binary_crossentropy: 0.5996 - categorical_accuracy: 0.8008 - f1: 0.7784 - loss: 0.5072 - precision: 0.8008 - recall: 0.8008 - val_binary_crossentropy: 0.5040 - val_categorical_accuracy: 0.8464 - val_f1: 0.8137 - val_loss: 0.4162 - val_precision: 0.8464 - val_recall: 0.8464 - learning_rate: 0.0100\n",
      "Epoch 9/100\n",
      "167/167 - 15s - 93ms/step - binary_crossentropy: 0.5803 - categorical_accuracy: 0.7977 - f1: 0.7670 - loss: 0.5126 - precision: 0.7977 - recall: 0.7977 - val_binary_crossentropy: 0.6250 - val_categorical_accuracy: 0.8253 - val_f1: 0.7948 - val_loss: 0.6746 - val_precision: 0.8253 - val_recall: 0.8253 - learning_rate: 0.0100\n",
      "Epoch 10/100\n",
      "167/167 - 16s - 94ms/step - binary_crossentropy: 0.5532 - categorical_accuracy: 0.8128 - f1: 0.7923 - loss: 0.4508 - precision: 0.8128 - recall: 0.8128 - val_binary_crossentropy: 0.4478 - val_categorical_accuracy: 0.8404 - val_f1: 0.8052 - val_loss: 0.3585 - val_precision: 0.8404 - val_recall: 0.8404 - learning_rate: 0.0050\n",
      "Epoch 11/100\n",
      "167/167 - 15s - 92ms/step - binary_crossentropy: 0.5384 - categorical_accuracy: 0.8165 - f1: 0.7963 - loss: 0.4447 - precision: 0.8165 - recall: 0.8165 - val_binary_crossentropy: 0.4799 - val_categorical_accuracy: 0.8223 - val_f1: 0.7907 - val_loss: 0.3776 - val_precision: 0.8223 - val_recall: 0.8223 - learning_rate: 0.0050\n",
      "Epoch 12/100\n",
      "167/167 - 16s - 94ms/step - binary_crossentropy: 0.5357 - categorical_accuracy: 0.8147 - f1: 0.7929 - loss: 0.4495 - precision: 0.8147 - recall: 0.8147 - val_binary_crossentropy: 0.4552 - val_categorical_accuracy: 0.8313 - val_f1: 0.8008 - val_loss: 0.3868 - val_precision: 0.8313 - val_recall: 0.8313 - learning_rate: 0.0050\n",
      "Epoch 13/100\n",
      "167/167 - 16s - 94ms/step - binary_crossentropy: 0.5021 - categorical_accuracy: 0.8274 - f1: 0.8090 - loss: 0.4345 - precision: 0.8274 - recall: 0.8274 - val_binary_crossentropy: 0.4708 - val_categorical_accuracy: 0.8434 - val_f1: 0.8107 - val_loss: 0.3734 - val_precision: 0.8434 - val_recall: 0.8434 - learning_rate: 0.0025\n",
      "Epoch 14/100\n",
      "167/167 - 16s - 93ms/step - binary_crossentropy: 0.5000 - categorical_accuracy: 0.8320 - f1: 0.8152 - loss: 0.4133 - precision: 0.8320 - recall: 0.8320 - val_binary_crossentropy: 0.4393 - val_categorical_accuracy: 0.8253 - val_f1: 0.7925 - val_loss: 0.3643 - val_precision: 0.8253 - val_recall: 0.8253 - learning_rate: 0.0025\n",
      "Epoch 15/100\n",
      "167/167 - 15s - 93ms/step - binary_crossentropy: 0.4901 - categorical_accuracy: 0.8402 - f1: 0.8235 - loss: 0.4059 - precision: 0.8402 - recall: 0.8402 - val_binary_crossentropy: 0.4705 - val_categorical_accuracy: 0.8283 - val_f1: 0.7931 - val_loss: 0.3736 - val_precision: 0.8283 - val_recall: 0.8283 - learning_rate: 0.0012\n",
      "EfficientNetB2 Training Complete\n"
     ]
    }
   ],
   "source": [
    "history = []\n",
    "for i in models:\n",
    "    x = i.fit(train_ds,\n",
    "                    epochs=EPOCHS,\n",
    "                    validation_data=val_ds,\n",
    "                    class_weight=class_weight,  # use our class weights here\n",
    "                    callbacks=[early_stopping_cb, reduce_lr_on_plateau_cb],\n",
    "                    verbose = 2\n",
    "                   )\n",
    "    history.append(x)\n",
    "    print(f\"{i.name} Training Complete\")\n",
    "    "
   ]
  },
  {
   "cell_type": "code",
   "execution_count": 19,
   "id": "75cbbfdf",
   "metadata": {
    "execution": {
     "iopub.execute_input": "2025-03-18T18:46:00.839437Z",
     "iopub.status.busy": "2025-03-18T18:46:00.839153Z",
     "iopub.status.idle": "2025-03-18T18:46:22.764668Z",
     "shell.execute_reply": "2025-03-18T18:46:22.763829Z"
    },
    "papermill": {
     "duration": 21.934443,
     "end_time": "2025-03-18T18:46:22.766096",
     "exception": false,
     "start_time": "2025-03-18T18:46:00.831653",
     "status": "completed"
    },
    "tags": []
   },
   "outputs": [
    {
     "name": "stdout",
     "output_type": "stream",
     "text": [
      "For model EfficientNetB2 - \n",
      "Evaluating on test data\n",
      "\u001b[1m21/21\u001b[0m \u001b[32m━━━━━━━━━━━━━━━━━━━━\u001b[0m\u001b[37m\u001b[0m \u001b[1m3s\u001b[0m 139ms/step - binary_crossentropy: 0.4917 - categorical_accuracy: 0.8142 - f1: 0.7831 - loss: 0.4174 - precision: 0.8142 - recall: 0.8142\n",
      "Generating prediction data\n",
      "\u001b[1m21/21\u001b[0m \u001b[32m━━━━━━━━━━━━━━━━━━━━\u001b[0m\u001b[37m\u001b[0m \u001b[1m14s\u001b[0m 391ms/step\n",
      "              precision    recall  f1-score   support\n",
      "\n",
      "      normal       0.85      0.93      0.89       444\n",
      "      stroke       0.82      0.66      0.73       223\n",
      "\n",
      "    accuracy                           0.84       667\n",
      "   macro avg       0.83      0.80      0.81       667\n",
      "weighted avg       0.84      0.84      0.83       667\n",
      "\n",
      "Model Saved as EfficientNetB2_classifier_head.keras\n",
      "__________\n"
     ]
    },
    {
     "data": {
      "image/png": "[encoded data removed]",
      "text/plain": [
       "<Figure size 640x480 with 2 Axes>"
      ]
     },
     "metadata": {},
     "output_type": "display_data"
    },
    {
     "data": {
      "image/png": "[encoded data removed]",
      "text/plain": [
       "<Figure size 640x480 with 2 Axes>"
      ]
     },
     "metadata": {},
     "output_type": "display_data"
    }
   ],
   "source": [
    "#Plot loss and accuracy curves\n",
    "#Compute confusion matrix on test set (not leaderboard)\n",
    "\n",
    "for i,j in zip(models,history):\n",
    "    print(f\"For model {i.name} - \")\n",
    "    plot_history(i,j)\n",
    "    pred_confusion(i)\n",
    "    i.save(f'{i.name}_classifier_head.keras')\n",
    "    print(f\"Model Saved as {i.name}_classifier_head.keras\")\n",
    "    print(\"__________\")"
   ]
  },
  {
   "cell_type": "code",
   "execution_count": 20,
   "id": "bc28da10",
   "metadata": {
    "execution": {
     "iopub.execute_input": "2025-03-18T18:46:22.787943Z",
     "iopub.status.busy": "2025-03-18T18:46:22.787679Z",
     "iopub.status.idle": "2025-03-18T19:09:48.025948Z",
     "shell.execute_reply": "2025-03-18T19:09:48.024935Z"
    },
    "papermill": {
     "duration": 1405.250904,
     "end_time": "2025-03-18T19:09:48.027782",
     "exception": false,
     "start_time": "2025-03-18T18:46:22.776878",
     "status": "completed"
    },
    "tags": []
   },
   "outputs": [
    {
     "name": "stdout",
     "output_type": "stream",
     "text": [
      "Finetuning EfficientNetB2 model - \n",
      "Epoch 1/100\n",
      "167/167 - 94s - 561ms/step - binary_crossentropy: 0.5077 - categorical_accuracy: 0.8244 - f1: 0.8034 - loss: 0.4310 - precision: 0.8244 - recall: 0.8244 - val_binary_crossentropy: 0.4415 - val_categorical_accuracy: 0.8554 - val_f1: 0.8208 - val_loss: 0.3493 - val_precision: 0.8554 - val_recall: 0.8554 - learning_rate: 1.0000e-05\n",
      "Epoch 2/100\n",
      "167/167 - 48s - 287ms/step - binary_crossentropy: 0.5003 - categorical_accuracy: 0.8451 - f1: 0.8268 - loss: 0.4092 - precision: 0.8451 - recall: 0.8451 - val_binary_crossentropy: 0.4189 - val_categorical_accuracy: 0.8584 - val_f1: 0.8227 - val_loss: 0.3281 - val_precision: 0.8584 - val_recall: 0.8584 - learning_rate: 1.0000e-05\n",
      "Epoch 3/100\n",
      "167/167 - 48s - 290ms/step - binary_crossentropy: 0.4813 - categorical_accuracy: 0.8511 - f1: 0.8339 - loss: 0.3801 - precision: 0.8511 - recall: 0.8511 - val_binary_crossentropy: 0.3990 - val_categorical_accuracy: 0.8675 - val_f1: 0.8398 - val_loss: 0.3190 - val_precision: 0.8675 - val_recall: 0.8675 - learning_rate: 1.0000e-05\n",
      "Epoch 4/100\n",
      "167/167 - 48s - 286ms/step - binary_crossentropy: 0.4732 - categorical_accuracy: 0.8545 - f1: 0.8374 - loss: 0.3773 - precision: 0.8545 - recall: 0.8545 - val_binary_crossentropy: 0.4124 - val_categorical_accuracy: 0.8614 - val_f1: 0.8398 - val_loss: 0.3246 - val_precision: 0.8614 - val_recall: 0.8614 - learning_rate: 1.0000e-05\n",
      "Epoch 5/100\n",
      "167/167 - 48s - 287ms/step - binary_crossentropy: 0.4501 - categorical_accuracy: 0.8737 - f1: 0.8591 - loss: 0.3443 - precision: 0.8737 - recall: 0.8737 - val_binary_crossentropy: 0.3909 - val_categorical_accuracy: 0.8855 - val_f1: 0.8648 - val_loss: 0.3058 - val_precision: 0.8855 - val_recall: 0.8855 - learning_rate: 1.0000e-05\n",
      "Epoch 6/100\n",
      "167/167 - 48s - 290ms/step - binary_crossentropy: 0.4483 - categorical_accuracy: 0.8707 - f1: 0.8562 - loss: 0.3440 - precision: 0.8707 - recall: 0.8707 - val_binary_crossentropy: 0.4006 - val_categorical_accuracy: 0.8795 - val_f1: 0.8561 - val_loss: 0.3020 - val_precision: 0.8795 - val_recall: 0.8795 - learning_rate: 1.0000e-05\n",
      "Epoch 7/100\n",
      "167/167 - 48s - 287ms/step - binary_crossentropy: 0.4404 - categorical_accuracy: 0.8823 - f1: 0.8680 - loss: 0.3303 - precision: 0.8823 - recall: 0.8823 - val_binary_crossentropy: 0.3741 - val_categorical_accuracy: 0.8855 - val_f1: 0.8633 - val_loss: 0.2936 - val_precision: 0.8855 - val_recall: 0.8855 - learning_rate: 1.0000e-05\n",
      "Epoch 8/100\n",
      "167/167 - 48s - 289ms/step - binary_crossentropy: 0.4261 - categorical_accuracy: 0.8831 - f1: 0.8698 - loss: 0.3199 - precision: 0.8831 - recall: 0.8831 - val_binary_crossentropy: 0.3676 - val_categorical_accuracy: 0.8916 - val_f1: 0.8733 - val_loss: 0.2836 - val_precision: 0.8916 - val_recall: 0.8916 - learning_rate: 1.0000e-05\n",
      "Epoch 9/100\n",
      "167/167 - 48s - 290ms/step - binary_crossentropy: 0.4119 - categorical_accuracy: 0.8962 - f1: 0.8833 - loss: 0.3079 - precision: 0.8962 - recall: 0.8962 - val_binary_crossentropy: 0.3673 - val_categorical_accuracy: 0.9066 - val_f1: 0.8912 - val_loss: 0.2744 - val_precision: 0.9066 - val_recall: 0.9066 - learning_rate: 1.0000e-05\n",
      "Epoch 10/100\n",
      "167/167 - 49s - 291ms/step - binary_crossentropy: 0.4046 - categorical_accuracy: 0.8925 - f1: 0.8802 - loss: 0.2945 - precision: 0.8925 - recall: 0.8925 - val_binary_crossentropy: 0.3567 - val_categorical_accuracy: 0.9006 - val_f1: 0.8842 - val_loss: 0.2730 - val_precision: 0.9006 - val_recall: 0.9006 - learning_rate: 1.0000e-05\n",
      "Epoch 11/100\n",
      "167/167 - 48s - 288ms/step - binary_crossentropy: 0.3903 - categorical_accuracy: 0.9128 - f1: 0.9024 - loss: 0.2755 - precision: 0.9128 - recall: 0.9128 - val_binary_crossentropy: 0.3344 - val_categorical_accuracy: 0.9006 - val_f1: 0.8809 - val_loss: 0.2726 - val_precision: 0.9006 - val_recall: 0.9006 - learning_rate: 1.0000e-05\n",
      "Epoch 12/100\n",
      "167/167 - 48s - 288ms/step - binary_crossentropy: 0.3776 - categorical_accuracy: 0.9105 - f1: 0.9000 - loss: 0.2498 - precision: 0.9105 - recall: 0.9105 - val_binary_crossentropy: 0.3194 - val_categorical_accuracy: 0.9066 - val_f1: 0.8881 - val_loss: 0.2583 - val_precision: 0.9066 - val_recall: 0.9066 - learning_rate: 1.0000e-05\n",
      "Epoch 13/100\n",
      "167/167 - 48s - 287ms/step - binary_crossentropy: 0.3924 - categorical_accuracy: 0.9113 - f1: 0.9011 - loss: 0.2686 - precision: 0.9113 - recall: 0.9113 - val_binary_crossentropy: 0.3184 - val_categorical_accuracy: 0.9096 - val_f1: 0.8908 - val_loss: 0.2516 - val_precision: 0.9096 - val_recall: 0.9096 - learning_rate: 1.0000e-05\n",
      "Epoch 14/100\n",
      "167/167 - 49s - 291ms/step - binary_crossentropy: 0.3565 - categorical_accuracy: 0.9226 - f1: 0.9138 - loss: 0.2346 - precision: 0.9226 - recall: 0.9226 - val_binary_crossentropy: 0.3113 - val_categorical_accuracy: 0.9157 - val_f1: 0.8980 - val_loss: 0.2451 - val_precision: 0.9157 - val_recall: 0.9157 - learning_rate: 1.0000e-05\n",
      "Epoch 15/100\n",
      "167/167 - 48s - 288ms/step - binary_crossentropy: 0.3621 - categorical_accuracy: 0.9169 - f1: 0.9075 - loss: 0.2395 - precision: 0.9169 - recall: 0.9169 - val_binary_crossentropy: 0.3195 - val_categorical_accuracy: 0.9187 - val_f1: 0.9062 - val_loss: 0.2486 - val_precision: 0.9187 - val_recall: 0.9187 - learning_rate: 1.0000e-05\n",
      "Epoch 16/100\n",
      "167/167 - 48s - 288ms/step - binary_crossentropy: 0.3617 - categorical_accuracy: 0.9188 - f1: 0.9095 - loss: 0.2413 - precision: 0.9188 - recall: 0.9188 - val_binary_crossentropy: 0.3057 - val_categorical_accuracy: 0.9217 - val_f1: 0.9070 - val_loss: 0.2452 - val_precision: 0.9217 - val_recall: 0.9217 - learning_rate: 1.0000e-05\n",
      "Epoch 17/100\n",
      "167/167 - 49s - 291ms/step - binary_crossentropy: 0.3462 - categorical_accuracy: 0.9274 - f1: 0.9191 - loss: 0.2194 - precision: 0.9274 - recall: 0.9274 - val_binary_crossentropy: 0.2998 - val_categorical_accuracy: 0.9307 - val_f1: 0.9188 - val_loss: 0.2290 - val_precision: 0.9307 - val_recall: 0.9307 - learning_rate: 5.0000e-06\n",
      "Epoch 18/100\n",
      "167/167 - 49s - 291ms/step - binary_crossentropy: 0.3444 - categorical_accuracy: 0.9289 - f1: 0.9209 - loss: 0.2103 - precision: 0.9289 - recall: 0.9289 - val_binary_crossentropy: 0.3195 - val_categorical_accuracy: 0.9006 - val_f1: 0.8896 - val_loss: 0.2640 - val_precision: 0.9006 - val_recall: 0.9006 - learning_rate: 5.0000e-06\n",
      "Epoch 19/100\n",
      "167/167 - 48s - 289ms/step - binary_crossentropy: 0.3328 - categorical_accuracy: 0.9353 - f1: 0.9277 - loss: 0.2118 - precision: 0.9353 - recall: 0.9353 - val_binary_crossentropy: 0.2947 - val_categorical_accuracy: 0.9277 - val_f1: 0.9164 - val_loss: 0.2242 - val_precision: 0.9277 - val_recall: 0.9277 - learning_rate: 5.0000e-06\n",
      "Epoch 20/100\n",
      "167/167 - 49s - 290ms/step - binary_crossentropy: 0.3295 - categorical_accuracy: 0.9365 - f1: 0.9293 - loss: 0.1929 - precision: 0.9365 - recall: 0.9365 - val_binary_crossentropy: 0.2912 - val_categorical_accuracy: 0.9217 - val_f1: 0.9112 - val_loss: 0.2306 - val_precision: 0.9217 - val_recall: 0.9217 - learning_rate: 5.0000e-06\n",
      "Epoch 21/100\n",
      "167/167 - 49s - 292ms/step - binary_crossentropy: 0.3358 - categorical_accuracy: 0.9323 - f1: 0.9246 - loss: 0.2040 - precision: 0.9323 - recall: 0.9323 - val_binary_crossentropy: 0.2896 - val_categorical_accuracy: 0.9247 - val_f1: 0.9140 - val_loss: 0.2276 - val_precision: 0.9247 - val_recall: 0.9247 - learning_rate: 5.0000e-06\n",
      "Epoch 22/100\n",
      "167/167 - 49s - 292ms/step - binary_crossentropy: 0.3251 - categorical_accuracy: 0.9346 - f1: 0.9273 - loss: 0.1991 - precision: 0.9346 - recall: 0.9346 - val_binary_crossentropy: 0.2830 - val_categorical_accuracy: 0.9337 - val_f1: 0.9238 - val_loss: 0.2234 - val_precision: 0.9337 - val_recall: 0.9337 - learning_rate: 2.5000e-06\n",
      "Epoch 23/100\n",
      "167/167 - 49s - 291ms/step - binary_crossentropy: 0.3125 - categorical_accuracy: 0.9372 - f1: 0.9300 - loss: 0.1866 - precision: 0.9372 - recall: 0.9372 - val_binary_crossentropy: 0.2783 - val_categorical_accuracy: 0.9277 - val_f1: 0.9164 - val_loss: 0.2178 - val_precision: 0.9277 - val_recall: 0.9277 - learning_rate: 2.5000e-06\n",
      "Epoch 24/100\n",
      "167/167 - 49s - 292ms/step - binary_crossentropy: 0.3157 - categorical_accuracy: 0.9398 - f1: 0.9330 - loss: 0.1806 - precision: 0.9398 - recall: 0.9398 - val_binary_crossentropy: 0.2849 - val_categorical_accuracy: 0.9247 - val_f1: 0.9136 - val_loss: 0.2290 - val_precision: 0.9247 - val_recall: 0.9247 - learning_rate: 2.5000e-06\n",
      "Epoch 25/100\n",
      "167/167 - 48s - 290ms/step - binary_crossentropy: 0.3085 - categorical_accuracy: 0.9398 - f1: 0.9330 - loss: 0.1749 - precision: 0.9398 - recall: 0.9398 - val_binary_crossentropy: 0.2765 - val_categorical_accuracy: 0.9277 - val_f1: 0.9160 - val_loss: 0.2206 - val_precision: 0.9277 - val_recall: 0.9277 - learning_rate: 2.5000e-06\n",
      "Epoch 26/100\n",
      "167/167 - 48s - 290ms/step - binary_crossentropy: 0.3111 - categorical_accuracy: 0.9406 - f1: 0.9338 - loss: 0.1772 - precision: 0.9406 - recall: 0.9406 - val_binary_crossentropy: 0.2845 - val_categorical_accuracy: 0.9217 - val_f1: 0.9104 - val_loss: 0.2314 - val_precision: 0.9217 - val_recall: 0.9217 - learning_rate: 1.2500e-06\n",
      "Epoch 27/100\n",
      "167/167 - 49s - 291ms/step - binary_crossentropy: 0.3174 - categorical_accuracy: 0.9421 - f1: 0.9357 - loss: 0.1817 - precision: 0.9421 - recall: 0.9421 - val_binary_crossentropy: 0.2778 - val_categorical_accuracy: 0.9157 - val_f1: 0.9030 - val_loss: 0.2294 - val_precision: 0.9157 - val_recall: 0.9157 - learning_rate: 1.2500e-06\n",
      "Epoch 28/100\n",
      "167/167 - 49s - 296ms/step - binary_crossentropy: 0.3120 - categorical_accuracy: 0.9455 - f1: 0.9394 - loss: 0.1773 - precision: 0.9455 - recall: 0.9455 - val_binary_crossentropy: 0.2781 - val_categorical_accuracy: 0.9157 - val_f1: 0.9030 - val_loss: 0.2318 - val_precision: 0.9157 - val_recall: 0.9157 - learning_rate: 6.2500e-07\n",
      "EfficientNetB2 Training Complete\n"
     ]
    }
   ],
   "source": [
    "#Unfreeze and Fine-Tune\n",
    "#Now that we've set up our classifier at the end using custom datasets (instead of the ImageNet dataset it was originally trained on), we can unfreeze all the weights and carefully fine-tune the entire model.\n",
    "\n",
    "def unfreeze_model(model, metrics=METRICS):\n",
    "    \n",
    "    for layer in model.layers:\n",
    "        if not isinstance(layer, tf.keras.layers.BatchNormalization):\n",
    "            layer.trainable = True\n",
    "    with strategy.scope():\n",
    "        # Use a much smaller learning rate now to start\n",
    "        optimizer = tf.keras.optimizers.Adam(learning_rate=1e-5)\n",
    "    \n",
    "        # Recompile to 'freeze' which layers are frozen (not trainable)\n",
    "        model.compile(\n",
    "            optimizer=optimizer, loss=\"categorical_crossentropy\", metrics=metrics\n",
    "        )\n",
    "\n",
    "for i in models:\n",
    "    unfreeze_model(i)\n",
    "\n",
    "history = []\n",
    "for i in models:\n",
    "    print(f\"Finetuning {i.name} model - \")\n",
    "    x = i.fit(train_ds,\n",
    "                    epochs=EPOCHS,\n",
    "                    validation_data=val_ds,\n",
    "                    class_weight=class_weight,  # use our class weights here\n",
    "                    callbacks=[early_stopping_cb, reduce_lr_on_plateau_cb],\n",
    "                    verbose = 2\n",
    "                   )\n",
    "    history.append(x)\n",
    "    print(f\"{i.name} Training Complete\")"
   ]
  },
  {
   "cell_type": "code",
   "execution_count": 21,
   "id": "84f6f3a9",
   "metadata": {
    "execution": {
     "iopub.execute_input": "2025-03-18T19:09:48.056426Z",
     "iopub.status.busy": "2025-03-18T19:09:48.056086Z",
     "iopub.status.idle": "2025-03-18T19:10:07.783228Z",
     "shell.execute_reply": "2025-03-18T19:10:07.781687Z"
    },
    "papermill": {
     "duration": 19.744545,
     "end_time": "2025-03-18T19:10:07.785708",
     "exception": false,
     "start_time": "2025-03-18T19:09:48.041163",
     "status": "completed"
    },
    "tags": []
   },
   "outputs": [
    {
     "name": "stdout",
     "output_type": "stream",
     "text": [
      "For model EfficientNetB2 - \n",
      "Evaluating on test data\n",
      "\u001b[1m21/21\u001b[0m \u001b[32m━━━━━━━━━━━━━━━━━━━━\u001b[0m\u001b[37m\u001b[0m \u001b[1m2s\u001b[0m 82ms/step - binary_crossentropy: 0.2940 - categorical_accuracy: 0.9042 - f1: 0.8911 - loss: 0.2353 - precision: 0.9042 - recall: 0.9042\n",
      "Generating prediction data\n",
      "\u001b[1m21/21\u001b[0m \u001b[32m━━━━━━━━━━━━━━━━━━━━\u001b[0m\u001b[37m\u001b[0m \u001b[1m16s\u001b[0m 417ms/step\n",
      "              precision    recall  f1-score   support\n",
      "\n",
      "      normal       0.92      0.95      0.93       444\n",
      "      stroke       0.90      0.83      0.86       223\n",
      "\n",
      "    accuracy                           0.91       667\n",
      "   macro avg       0.91      0.89      0.90       667\n",
      "weighted avg       0.91      0.91      0.91       667\n",
      "\n",
      "Model Saved as EfficientNetB2_finetuned.keras\n",
      "__________\n"
     ]
    },
    {
     "data": {
      "image/png": "[encoded data removed]",
      "text/plain": [
       "<Figure size 640x480 with 2 Axes>"
      ]
     },
     "metadata": {},
     "output_type": "display_data"
    },
    {
     "data": {
      "image/png": "[encoded data removed]",
      "text/plain": [
       "<Figure size 640x480 with 2 Axes>"
      ]
     },
     "metadata": {},
     "output_type": "display_data"
    }
   ],
   "source": [
    "#Plot loss and accuracy curves\n",
    "#Compute confusion matrix on test set (not leaderboard)\n",
    "\n",
    "for i,j in zip(models,history):\n",
    "    print(f\"For model {i.name} - \")\n",
    "    plot_history(i,j)\n",
    "    pred_confusion(i)\n",
    "    i.save(f'{i.name}_finetuned.keras')\n",
    "    print(f\"Model Saved as {i.name}_finetuned.keras\")\n",
    "    print(\"__________\")"
   ]
  },
  {
   "cell_type": "code",
   "execution_count": null,
   "id": "a9caa6d9",
   "metadata": {
    "papermill": {
     "duration": 0.017427,
     "end_time": "2025-03-18T19:10:07.822516",
     "exception": false,
     "start_time": "2025-03-18T19:10:07.805089",
     "status": "completed"
    },
    "tags": []
   },
   "outputs": [],
   "source": []
  }
 ],
 "metadata": {
  "kaggle": {
   "accelerator": "nvidiaTeslaT4",
   "dataSources": [
    {
     "datasetId": 6859291,
     "sourceId": 11016466,
     "sourceType": "datasetVersion"
    }
   ],
   "dockerImageVersionId": 30918,
   "isGpuEnabled": true,
   "isInternetEnabled": true,
   "language": "python",
   "sourceType": "notebook"
  },
  "kernelspec": {
   "display_name": "Python 3",
   "language": "python",
   "name": "python3"
  },
  "language_info": {
   "codemirror_mode": {
    "name": "ipython",
    "version": 3
   },
   "file_extension": ".py",
   "mimetype": "text/x-python",
   "name": "python",
   "nbconvert_exporter": "python",
   "pygments_lexer": "ipython3",
   "version": "3.10.12"
  },
  "papermill": {
   "default_parameters": {},
   "duration": 1803.250181,
   "end_time": "2025-03-18T19:10:11.964834",
   "environment_variables": {},
   "exception": null,
   "input_path": "__notebook__.ipynb",
   "output_path": "__notebook__.ipynb",
   "parameters": {},
   "start_time": "2025-03-18T18:40:08.714653",
   "version": "2.6.0"
  }
 },
 "nbformat": 4,
 "nbformat_minor": 5
}
